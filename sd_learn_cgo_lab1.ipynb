{
  "cells": [
    {
      "cell_type": "code",
      "execution_count": null,
      "metadata": {
        "id": "urkECkXbAgo6"
      },
      "outputs": [],
      "source": [
        "# Install library yang dibutuhkan\n",
        "!pip install git+https://github.com/ibm-granite-community/utils \\\n",
        "    \"langchain_community<0.3.0\" \\\n",
        "    replicate pyngrok flask"
      ]
    },
    {
      "cell_type": "code",
      "execution_count": null,
      "metadata": {
        "id": "3r0HxqRQNo6A"
      },
      "outputs": [],
      "source": [
        "from ibm_granite_community.notebook_utils import get_env_var\n",
        "from langchain_community.llms import Replicate\n",
        "\n",
        "# Inisialisasi model Granite via Replicate\n",
        "model = Replicate(\n",
        "    model=\"ibm-granite/granite-3.3-8b-instruct\",\n",
        "    replicate_api_token=get_env_var(\"REPLICATE_API_TOKEN\"),  # Harus sudah diset\n",
        "    model_kwargs={\"max_tokens\": 512, \"temperature\": 0.2},\n",
        ")\n"
      ]
    },
    {
      "cell_type": "code",
      "execution_count": null,
      "metadata": {
        "id": "3URKgq3vOME_"
      },
      "outputs": [],
      "source": [
        "def zeroshot_prompt_diet(data):\n",
        "    return f\"\"\"\n",
        "    Saya pengguna aplikasi diet bernama Kaloriku. Hari ini saya telah mengonsumsi {data['kalori_masuk']}kkal dan membakar {data['kalori_terbakar']}kkal melalui aktivitas.\n",
        "    Target saya adalah defisit {data['target_defisit']}kkal.\n",
        "    Tolong berikan saran makanan yang harus saya kurangi atau aktivitas tambahan yang bisa saya lakukan agar target defisit tercapai.\n",
        "    Berikan jawaban ringkas dan mudah dipahami.\n",
        "    \"\"\"\n"
      ]
    },
    {
      "cell_type": "code",
      "execution_count": null,
      "metadata": {
        "id": "f-o9FFvbOQQJ"
      },
      "outputs": [],
      "source": [
        "from flask import Flask, request, jsonify\n",
        "import threading\n",
        "\n",
        "app = Flask(__name__)\n",
        "\n",
        "@app.route(\"/saran-ai\", methods=[\"POST\"])\n",
        "def saran_ai():\n",
        "    data = request.json\n",
        "    prompt = zeroshot_prompt_diet(data)\n",
        "    result = model.invoke(prompt)\n",
        "    return jsonify({\"saran\": result})\n",
        "\n",
        "def run_flask():\n",
        "    app.run(host=\"0.0.0.0\", port=5000)\n",
        "\n",
        "# Jalankan Flask di thread terpisah\n",
        "thread = threading.Thread(target=run_flask)\n",
        "thread.start()\n"
      ]
    },
    {
      "cell_type": "code",
      "execution_count": null,
      "metadata": {
        "id": "9ScSaBu9OXRI"
      },
      "outputs": [],
      "source": [
        "from pyngrok import ngrok\n",
        "\n",
        "# GANTI dengan authtoken milikmu\n",
        "ngrok.set_auth_token(\"2zLwnLDph938yfIobq2o8Ue8aZS_2GPedgYx8NDYQz3KHv4sV\")\n",
        "\n",
        "# Buat tunnel\n",
        "public_url = ngrok.connect(5000)\n",
        "print(\"Public URL:\", public_url)\n"
      ]
    },
    {
      "cell_type": "code",
      "execution_count": null,
      "metadata": {
        "id": "_rq2u2djTsdK"
      },
      "outputs": [],
      "source": [
        "import requests\n",
        "\n",
        "data = {\n",
        "    \"kalori_masuk\": 1800,\n",
        "    \"kalori_terbakar\": 300,\n",
        "    \"target_defisit\": 500\n",
        "}\n",
        "\n",
        "response = requests.post(f\"{public_url}/saran-ai\", json=data)\n",
        "print(\"Saran AI:\\n\", response.json()[\"saran\"])\n"
      ]
    }
  ],
  "metadata": {
    "colab": {
      "provenance": []
    },
    "kernelspec": {
      "display_name": ".venv",
      "language": "python",
      "name": "python3"
    },
    "language_info": {
      "codemirror_mode": {
        "name": "ipython",
        "version": 3
      },
      "file_extension": ".py",
      "mimetype": "text/x-python",
      "name": "python",
      "nbconvert_exporter": "python",
      "pygments_lexer": "ipython3",
      "version": "3.10.11"
    }
  },
  "nbformat": 4,
  "nbformat_minor": 0
}