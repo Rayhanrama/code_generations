{
  "cells": [
    {
      "cell_type": "code",
      "execution_count": 1,
      "metadata": {
        "id": "urkECkXbAgo6",
        "colab": {
          "base_uri": "https://localhost:8080/"
        },
        "outputId": "398c7d2a-2c7c-4227-dbd0-7caa08005743"
      },
      "outputs": [
        {
          "output_type": "stream",
          "name": "stdout",
          "text": [
            "Collecting git+https://github.com/ibm-granite-community/utils\n",
            "  Cloning https://github.com/ibm-granite-community/utils to /tmp/pip-req-build-rfe1b_b8\n",
            "  Running command git clone --filter=blob:none --quiet https://github.com/ibm-granite-community/utils /tmp/pip-req-build-rfe1b_b8\n",
            "  Resolved https://github.com/ibm-granite-community/utils to commit 1514191fbbc4605ed4fdfdcb448f2ee41477058f\n",
            "  Installing build dependencies ... \u001b[?25l\u001b[?25hdone\n",
            "  Getting requirements to build wheel ... \u001b[?25l\u001b[?25hdone\n",
            "  Preparing metadata (pyproject.toml) ... \u001b[?25l\u001b[?25hdone\n",
            "Requirement already satisfied: langchain_community<0.3.0 in /usr/local/lib/python3.11/dist-packages (0.2.19)\n",
            "Requirement already satisfied: replicate in /usr/local/lib/python3.11/dist-packages (1.0.7)\n",
            "Requirement already satisfied: python-dotenv in /usr/local/lib/python3.11/dist-packages (from ibm-granite-community-utils==0.1.dev74) (1.1.1)\n",
            "Requirement already satisfied: langchain_core in /usr/local/lib/python3.11/dist-packages (from ibm-granite-community-utils==0.1.dev74) (0.2.43)\n",
            "Requirement already satisfied: typing_extensions in /usr/local/lib/python3.11/dist-packages (from ibm-granite-community-utils==0.1.dev74) (4.14.0)\n",
            "Requirement already satisfied: PyYAML>=5.3 in /usr/local/lib/python3.11/dist-packages (from langchain_community<0.3.0) (6.0.2)\n",
            "Requirement already satisfied: SQLAlchemy<3,>=1.4 in /usr/local/lib/python3.11/dist-packages (from langchain_community<0.3.0) (2.0.41)\n",
            "Requirement already satisfied: aiohttp<4.0.0,>=3.8.3 in /usr/local/lib/python3.11/dist-packages (from langchain_community<0.3.0) (3.11.15)\n",
            "Requirement already satisfied: dataclasses-json<0.7,>=0.5.7 in /usr/local/lib/python3.11/dist-packages (from langchain_community<0.3.0) (0.6.7)\n",
            "Requirement already satisfied: langchain<0.3.0,>=0.2.17 in /usr/local/lib/python3.11/dist-packages (from langchain_community<0.3.0) (0.2.17)\n",
            "Requirement already satisfied: langsmith<0.2.0,>=0.1.112 in /usr/local/lib/python3.11/dist-packages (from langchain_community<0.3.0) (0.1.147)\n",
            "Requirement already satisfied: numpy<2,>=1 in /usr/local/lib/python3.11/dist-packages (from langchain_community<0.3.0) (1.26.4)\n",
            "Requirement already satisfied: requests<3,>=2 in /usr/local/lib/python3.11/dist-packages (from langchain_community<0.3.0) (2.32.3)\n",
            "Requirement already satisfied: tenacity!=8.4.0,<9.0.0,>=8.1.0 in /usr/local/lib/python3.11/dist-packages (from langchain_community<0.3.0) (8.5.0)\n",
            "Requirement already satisfied: httpx<1,>=0.21.0 in /usr/local/lib/python3.11/dist-packages (from replicate) (0.28.1)\n",
            "Requirement already satisfied: packaging in /usr/local/lib/python3.11/dist-packages (from replicate) (24.2)\n",
            "Requirement already satisfied: pydantic>1.10.7 in /usr/local/lib/python3.11/dist-packages (from replicate) (2.11.7)\n",
            "Requirement already satisfied: aiohappyeyeballs>=2.3.0 in /usr/local/lib/python3.11/dist-packages (from aiohttp<4.0.0,>=3.8.3->langchain_community<0.3.0) (2.6.1)\n",
            "Requirement already satisfied: aiosignal>=1.1.2 in /usr/local/lib/python3.11/dist-packages (from aiohttp<4.0.0,>=3.8.3->langchain_community<0.3.0) (1.3.2)\n",
            "Requirement already satisfied: attrs>=17.3.0 in /usr/local/lib/python3.11/dist-packages (from aiohttp<4.0.0,>=3.8.3->langchain_community<0.3.0) (25.3.0)\n",
            "Requirement already satisfied: frozenlist>=1.1.1 in /usr/local/lib/python3.11/dist-packages (from aiohttp<4.0.0,>=3.8.3->langchain_community<0.3.0) (1.7.0)\n",
            "Requirement already satisfied: multidict<7.0,>=4.5 in /usr/local/lib/python3.11/dist-packages (from aiohttp<4.0.0,>=3.8.3->langchain_community<0.3.0) (6.6.3)\n",
            "Requirement already satisfied: propcache>=0.2.0 in /usr/local/lib/python3.11/dist-packages (from aiohttp<4.0.0,>=3.8.3->langchain_community<0.3.0) (0.3.2)\n",
            "Requirement already satisfied: yarl<2.0,>=1.17.0 in /usr/local/lib/python3.11/dist-packages (from aiohttp<4.0.0,>=3.8.3->langchain_community<0.3.0) (1.20.1)\n",
            "Requirement already satisfied: marshmallow<4.0.0,>=3.18.0 in /usr/local/lib/python3.11/dist-packages (from dataclasses-json<0.7,>=0.5.7->langchain_community<0.3.0) (3.26.1)\n",
            "Requirement already satisfied: typing-inspect<1,>=0.4.0 in /usr/local/lib/python3.11/dist-packages (from dataclasses-json<0.7,>=0.5.7->langchain_community<0.3.0) (0.9.0)\n",
            "Requirement already satisfied: anyio in /usr/local/lib/python3.11/dist-packages (from httpx<1,>=0.21.0->replicate) (4.9.0)\n",
            "Requirement already satisfied: certifi in /usr/local/lib/python3.11/dist-packages (from httpx<1,>=0.21.0->replicate) (2025.6.15)\n",
            "Requirement already satisfied: httpcore==1.* in /usr/local/lib/python3.11/dist-packages (from httpx<1,>=0.21.0->replicate) (1.0.9)\n",
            "Requirement already satisfied: idna in /usr/local/lib/python3.11/dist-packages (from httpx<1,>=0.21.0->replicate) (3.10)\n",
            "Requirement already satisfied: h11>=0.16 in /usr/local/lib/python3.11/dist-packages (from httpcore==1.*->httpx<1,>=0.21.0->replicate) (0.16.0)\n",
            "Requirement already satisfied: langchain-text-splitters<0.3.0,>=0.2.0 in /usr/local/lib/python3.11/dist-packages (from langchain<0.3.0,>=0.2.17->langchain_community<0.3.0) (0.2.4)\n",
            "Requirement already satisfied: jsonpatch<2.0,>=1.33 in /usr/local/lib/python3.11/dist-packages (from langchain_core->ibm-granite-community-utils==0.1.dev74) (1.33)\n",
            "Requirement already satisfied: orjson<4.0.0,>=3.9.14 in /usr/local/lib/python3.11/dist-packages (from langsmith<0.2.0,>=0.1.112->langchain_community<0.3.0) (3.10.18)\n",
            "Requirement already satisfied: requests-toolbelt<2.0.0,>=1.0.0 in /usr/local/lib/python3.11/dist-packages (from langsmith<0.2.0,>=0.1.112->langchain_community<0.3.0) (1.0.0)\n",
            "Requirement already satisfied: annotated-types>=0.6.0 in /usr/local/lib/python3.11/dist-packages (from pydantic>1.10.7->replicate) (0.7.0)\n",
            "Requirement already satisfied: pydantic-core==2.33.2 in /usr/local/lib/python3.11/dist-packages (from pydantic>1.10.7->replicate) (2.33.2)\n",
            "Requirement already satisfied: typing-inspection>=0.4.0 in /usr/local/lib/python3.11/dist-packages (from pydantic>1.10.7->replicate) (0.4.1)\n",
            "Requirement already satisfied: charset-normalizer<4,>=2 in /usr/local/lib/python3.11/dist-packages (from requests<3,>=2->langchain_community<0.3.0) (3.4.2)\n",
            "Requirement already satisfied: urllib3<3,>=1.21.1 in /usr/local/lib/python3.11/dist-packages (from requests<3,>=2->langchain_community<0.3.0) (2.4.0)\n",
            "Requirement already satisfied: greenlet>=1 in /usr/local/lib/python3.11/dist-packages (from SQLAlchemy<3,>=1.4->langchain_community<0.3.0) (3.2.3)\n",
            "Requirement already satisfied: jsonpointer>=1.9 in /usr/local/lib/python3.11/dist-packages (from jsonpatch<2.0,>=1.33->langchain_core->ibm-granite-community-utils==0.1.dev74) (3.0.0)\n",
            "Requirement already satisfied: mypy-extensions>=0.3.0 in /usr/local/lib/python3.11/dist-packages (from typing-inspect<1,>=0.4.0->dataclasses-json<0.7,>=0.5.7->langchain_community<0.3.0) (1.1.0)\n",
            "Requirement already satisfied: sniffio>=1.1 in /usr/local/lib/python3.11/dist-packages (from anyio->httpx<1,>=0.21.0->replicate) (1.3.1)\n"
          ]
        }
      ],
      "source": [
        "!pip install git+https://github.com/ibm-granite-community/utils \\\n",
        "    \"langchain_community<0.3.0\" \\\n",
        "    replicate"
      ]
    },
    {
      "cell_type": "code",
      "execution_count": 2,
      "metadata": {
        "id": "3r0HxqRQNo6A",
        "colab": {
          "base_uri": "https://localhost:8080/"
        },
        "outputId": "50b0c10d-3689-434e-ceb8-2aa2a4e6f578"
      },
      "outputs": [
        {
          "output_type": "stream",
          "name": "stdout",
          "text": [
            "REPLICATE_API_TOKEN loaded from Google Colab secret.\n"
          ]
        }
      ],
      "source": [
        "from ibm_granite_community.notebook_utils import get_env_var\n",
        "from langchain_community.llms import Replicate\n",
        "\n",
        "model = Replicate(\n",
        "    model=\"ibm-granite/granite-3.3-8b-instruct\",\n",
        "    replicate_api_token=get_env_var('REPLICATE_API_TOKEN'),\n",
        "    model_kwargs={\"max_tokens\":1024, \"temperature\":0.2},\n",
        ")"
      ]
    },
    {
      "cell_type": "code",
      "execution_count": 4,
      "metadata": {
        "id": "3URKgq3vOME_",
        "colab": {
          "base_uri": "https://localhost:8080/"
        },
        "outputId": "e15a09af-6c8c-4041-e14e-636034f51ac0"
      },
      "outputs": [
        {
          "output_type": "stream",
          "name": "stdout",
          "text": [
            "Saya memahami bahwa Anda menggunakan aplikasi diet bernama Kaloriku dan ingin mencapai defisit kalori sebesar 500 kkal. Anda telah mengonsumsi 1800 kcal dan membakar 300 kcal melalui aktivitas. \n",
            "\n",
            "Untuk mencapai target defisit 500 kcal, Anda perlu mengurangi kalori masukan atau meningkatkan kalori terbakar sebesar 500 kcal. Berikut adalah beberapa saran untuk Anda:\n",
            "\n",
            "1. **Mengurangi Kalori Masukan:**\n",
            "   - **Makanan yang dapat Anda kurangi:**\n",
            "     - Makanan yang tinggi kalori dan rendah nutrisi, seperti makanan junk food, makanan fried, dan minuman beralkohol.\n",
            "     - Snack makanan ringan seperti kue, biskuit, dan chips.\n",
            "     - Makanan yang tinggi karbohidrat dan rendah protein, seperti nasi putih bersih tanpa tambahan protein lainnya.\n",
            "   - **Sajikan makanan dengan lebih sehat:**\n",
            "     - Pilihan makanan lebih sehat yang dapat Anda pilih adalah grill, steamed, atau rebusan buatan sendiri.\n",
            "     - Tambahkan protein lebih banyak dalam setiap makanan, misalnya daging, ayam, sotong, atau tofu.\n",
            "     - Pilih carbohydrate kompleks seperti nasi brown, quinoa, atau gurihan.\n",
            "\n",
            "2. **Meningkatkan Kalori Terbakar:**\n",
            "   - **Aktivitas tambahan:**\n",
            "     - Tambahkan latihan cardio seperti berjoging, berlari, bersepeda, atau melakukan aktivitas cardio di rumah seperti zigzag jogging atau jumping jack.\n",
            "     - Tambahkan latihan kekuatannya seperti gerak-geri, squat, lunges, atau penggunaan dumbbell dengan berat yang sesuai.\n",
            "     - Coba aktivitas yang menarik seperti yoga, pilates, atau gerak-geri aerobic.\n",
            "\n",
            "Saran tambahan:\n",
            "- Tetap disiplin dalam mencatat makanan dan aktivitas Anda di aplikasi Kaloriku.\n",
            "- Cari dukungan dari teman atau keluarga untuk mencapai tujuan diet Anda.\n",
            "- Jangan lupa minum cukup air putih dan tetap menerapkan pola makan sehat setelah mencapai target defisit.\n",
            "\n",
            "Penting untuk diingat bahwa setiap individu memiliki kebutuhan unik, jadi pastikan untuk mendapatkan nasihat lebih detail dan pribadi, konsultasikan dengan seorang dietitian atau ahli kesehatan.\n"
          ]
        }
      ],
      "source": [
        "def zeroshot_prompt_diet(data):\n",
        "    return f\"\"\"\n",
        "    Saya pengguna aplikasi diet bernama Kaloriku. Hari ini saya telah mengonsumsi {data['kalori_masuk']}kkal dan membakar {data['kalori_terbakar']}kkal melalui aktivitas.\n",
        "    Target saya adalah defisit {data['target_defisit']}kkal.\n",
        "    Tolong berikan saran makanan yang harus saya kurangi atau aktivitas tambahan yang bisa saya lakukan agar target defisit tercapai.\n",
        "    Berikan jawaban ringkas dan mudah dipahami.\n",
        "    \"\"\"\n",
        "\n",
        "# Panggil fungsi dan kirim ke Granite\n",
        "prompt = zeroshot_prompt_diet({\n",
        "    'kalori_masuk': 1800,\n",
        "    'kalori_terbakar': 300,\n",
        "    'target_defisit': 500\n",
        "})\n",
        "\n",
        "# Panggil AI\n",
        "result = model.invoke(prompt)\n",
        "print(result)\n",
        "\n"
      ]
    },
    {
      "cell_type": "code",
      "execution_count": 8,
      "metadata": {
        "id": "f-o9FFvbOQQJ"
      },
      "outputs": [],
      "source": [
        "# Fungsi pembuat prompt dan pemanggil model Granite\n",
        "\n",
        "def zeroshot_prompt(context, question, book_titles):\n",
        "    \"\"\"\n",
        "    Membuat prompt yang akan dikirim ke model Granite.\n",
        "    \"\"\"\n",
        "    titles = \", \".join(book_titles)\n",
        "    prompt = f\"\"\"\n",
        "    Kamu adalah ahli nutrisi dan pelatih kebugaran profesional.\n",
        "    Tugasmu adalah memberikan saran berbasis data diet harian berikut ini:\n",
        "\n",
        "    {context}\n",
        "    {question}\n",
        "\n",
        "    Tambahkan referensi dari: {titles if titles else 'tidak ada'}.\n",
        "    Jawaban harus ringkas, langsung, dan mudah dimengerti pengguna awam.\n",
        "    \"\"\"\n",
        "    return prompt\n",
        "\n",
        "\n",
        "def get_answer_using_zeroshot(context, question, book_titles):\n",
        "    \"\"\"\n",
        "    Mengirim prompt ke model Granite dan mengembalikan hasilnya.\n",
        "    \"\"\"\n",
        "    prompt = zeroshot_prompt(context, question, book_titles)\n",
        "    result = model.invoke(prompt)\n",
        "    return result\n"
      ]
    },
    {
      "cell_type": "code",
      "execution_count": 9,
      "metadata": {
        "id": "9ScSaBu9OXRI",
        "colab": {
          "base_uri": "https://localhost:8080/"
        },
        "outputId": "3616db4d-6112-4653-d16f-d76a1f296de5"
      },
      "outputs": [
        {
          "output_type": "stream",
          "name": "stdout",
          "text": [
            "Saran AI Granite:\n",
            "Selamat menggunakan aplikasi diet harian! Berdasarkan informasi yang diberikan, Anda mencapai defisit kalori target Anda (500 kkal) dengan makanan 1800 kkal dan olahraga 300 kkal, yang menghasilkan defisit sebanyak 1000 kkal (1800 - 300 = 1500, dan 1500 - 500 = 1000).\n",
            "\n",
            "Saran untuk makanan dan aktivitas:\n",
            "\n",
            "1. **Makanan**: Tetap konsumsi makanan Anda dengan total kalori 1800, tetapi pastikan makanan Anda terdistribusi seimbang antara macam-macam macronutrient (karbohidrat, protein, dan lemak). Coba untuk mencakup:\n",
            "\n",
            "   - Sumber karbohidrat sehat seperti buah, sayuran, dan grain whole.\n",
            "   - Sumber protein seperti daging, ikan, tofu, atau tempe.\n",
            "   - Makanan yang kaya dengan fiber untuk membantu rasa satisfied dan keseimbangan hormon leptin dan ghrelin.\n",
            "\n",
            "2. **Aktivitas**: Untuk mendukung tujuan kebugaran Anda, pertimbangkan untuk menambahkan aktivitas fisik lebih intensif secara berkala. Misalnya:\n",
            "\n",
            "   - Lakukan olahraga cardio seperti joging, bersiul, atau berolak-olah selama 20-30 menit sebanyak 3-4 kali per minggu.\n",
            "   - Tambahkan latihan kekuatannya secara berkala, seperti gerak-geri atau penggunaan alat berat, 2-3 kali per minggu.\n",
            "   - Pastikan Anda melakukan stretching atau yoga untuk menjaga elastisitas dan menghindari cedera.\n",
            "\n",
            "Pertimbangkan bahwa setiap individu berbeda, dan perubahan diet dan olahraga harus dilakukan dengan hati-hati. Jika Anda merasakan kekurangan energi, kelelahan, atau gejala lainnya, segera konsultasikan dengan ahli kesehatan atau dietis.\n",
            "\n",
            "Selamat menjalankan program diet dan kebugaran Anda!\n"
          ]
        }
      ],
      "source": [
        "context = \"Saya adalah pengguna aplikasi diet harian Kaloriku.\"\n",
        "question = \"Hari ini saya makan 1800kkal dan olahraga 300kkal. Target saya defisit 500kkal. Apa saran makanan atau aktivitas selanjutnya?\"\n",
        "book_titles = []  # kosong karena tidak relevan dalam konteks ini\n",
        "\n",
        "# Minta Granite memberikan saran diet\n",
        "result = get_answer_using_zeroshot(context, question, book_titles)\n",
        "print(f\"Saran AI Granite:\\n{result}\")\n"
      ]
    },
    {
      "cell_type": "code",
      "execution_count": null,
      "metadata": {
        "id": "_rq2u2djTsdK"
      },
      "outputs": [],
      "source": []
    }
  ],
  "metadata": {
    "colab": {
      "provenance": []
    },
    "kernelspec": {
      "display_name": ".venv",
      "language": "python",
      "name": "python3"
    },
    "language_info": {
      "codemirror_mode": {
        "name": "ipython",
        "version": 3
      },
      "file_extension": ".py",
      "mimetype": "text/x-python",
      "name": "python",
      "nbconvert_exporter": "python",
      "pygments_lexer": "ipython3",
      "version": "3.10.11"
    }
  },
  "nbformat": 4,
  "nbformat_minor": 0
}